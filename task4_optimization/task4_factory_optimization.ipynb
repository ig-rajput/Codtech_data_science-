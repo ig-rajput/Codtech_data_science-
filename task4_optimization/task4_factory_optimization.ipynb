# Task 4: Factory Production Optimization using PuLP

from pulp import LpMaximize, LpProblem, LpVariable, value

# Define the problem
model = LpProblem("Maximize_Profit", LpMaximize)

# Decision variables
A = LpVariable("Product_A", lowBound=0, cat='Integer')
B = LpVariable("Product_B", lowBound=0, cat='Integer')

# Objective function
model += 30 * A + 50 * B, "Total_Profit"

# Constraints
model += 3 * A + 4 * B <= 240, "Machine_Time"
model += 2 * A + 3 * B <= 180, "Labor_Time"

# Solve the problem
model.solve()

# Results
print("Status:", model.status)
print("Produce Product A:", A.varValue)
print("Produce Product B:", B.varValue)
print("Maximum Profit: ₹", value(model.objective))
